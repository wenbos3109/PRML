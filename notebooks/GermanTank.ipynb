{
 "cells": [
  {
   "cell_type": "code",
   "execution_count": 35,
   "metadata": {},
   "outputs": [],
   "source": [
    "%matplotlib inline\n",
    "import numpy as np\n",
    "import scipy as sp\n",
    "import matplotlib.pyplot as plt"
   ]
  },
  {
   "cell_type": "markdown",
   "metadata": {},
   "source": [
    "# German tank problem\n",
    "In the statistical theory of estimation, the German tank problem consists of estimating the maximum of a discrete uniform distribution from sampling without replacement. In simple terms, suppose we have an unknown number of items which are sequentially numbered from 1 to N. We take a random sample of these items and observe their sequence numbers; the problem is to estimate N from these observed numbers. For tank proof see [here](https://laurentlessard.com/bookproofs/tank-counting/)."
   ]
  },
  {
   "cell_type": "code",
   "execution_count": 82,
   "metadata": {},
   "outputs": [],
   "source": [
    "num_tanks = 1000\n",
    "num_captured = 15\n",
    "num_simulations = 100_000\n",
    "def generate_sample(): return np.random.randint(1, num_tanks+1, num_captured)"
   ]
  },
  {
   "cell_type": "code",
   "execution_count": 91,
   "metadata": {},
   "outputs": [],
   "source": [
    "def plot(simulations):\n",
    "    mean = np.mean(simulations)\n",
    "    plt.plot([mean, mean], [0, 0.011], '--r')\n",
    "    _ = plt.hist(simulations, density=True)\n",
    "    print(f\"mean is {mean: .2f}, std is {np.std(simulations):.2f}\")"
   ]
  },
  {
   "cell_type": "markdown",
   "metadata": {},
   "source": [
    "## 0. Naive way\n",
    "Use the maximum serial number as the total number."
   ]
  },
  {
   "cell_type": "code",
   "execution_count": 92,
   "metadata": {},
   "outputs": [
    {
     "name": "stdout",
     "output_type": "stream",
     "text": [
      "mean is  937.86, std is 58.76\n"
     ]
    },
    {
     "data": {
      "image/png": "[encoded data removed]",
      "text/plain": [
       "<Figure size 432x288 with 1 Axes>"
      ]
     },
     "metadata": {
      "needs_background": "light"
     },
     "output_type": "display_data"
    }
   ],
   "source": [
    "simulations = [np.max(generate_sample()) for _ in range(num_simulations)]\n",
    "plot(simulations)"
   ]
  },
  {
   "cell_type": "markdown",
   "metadata": {},
   "source": [
    "## 1. Frequentist inference\n",
    "Let $m$ be the maximum serial number and $k$ be the number of observed tanks, \n",
    "$$N \\approx m+\\frac{m}{k}-1$$\n",
    "We can understand this in the following way, since serial numbers are generated uniformly, so the space between serial numbers should be small. The average spacing between serial number is $m/(k)-1$. We just conpensate this to $m$."
   ]
  },
  {
   "cell_type": "code",
   "execution_count": 93,
   "metadata": {},
   "outputs": [
    {
     "name": "stdout",
     "output_type": "stream",
     "text": [
      "mean is  999.57, std is 62.43\n"
     ]
    },
    {
     "data": {
      "image/png": "[encoded data removed]",
      "text/plain": [
       "<Figure size 432x288 with 1 Axes>"
      ]
     },
     "metadata": {
      "needs_background": "light"
     },
     "output_type": "display_data"
    }
   ],
   "source": [
    "# define a compensate estimator\n",
    "def compensate(observed):\n",
    "    m = np.max(observed)\n",
    "    spacing = m*1./num_captured - 1\n",
    "    return m + spacing\n",
    "simulations = [compensate(generate_sample()) for _ in range(num_simulations)]\n",
    "plot(simulations)"
   ]
  },
  {
   "cell_type": "markdown",
   "metadata": {},
   "source": [
    "## Bayesian analysis"
   ]
  },
  {
   "cell_type": "markdown",
   "metadata": {},
   "source": [
    "Conditional probability:\n",
    "\\begin{aligned}\n",
    "    P(A_1,\\dots, A_n) &= P(A_2,\\dots, A_n|A_1)P(A_1)\\\\\n",
    "                      &=P(A_3,\\dots, A_n|A_1,A_2)P(A_2|A_1)P(A_1)\\\\\n",
    "                      &=P(A_4,\\dots, A_n|A_1,A_2)P(A_3|A_1, A_2)P(A_2|A_1)P(A_1)\\\\\n",
    "                      &=\\cdots\n",
    "\\end{aligned}"
   ]
  },
  {
   "cell_type": "markdown",
   "metadata": {},
   "source": [
    "The Bayesian approach to the German tank problem is to consider the credibility  $(N=n | M=m, K=k)$. The conditional probability gives us \n",
    "$$(n | m, k)(m | k)=(m | n, k)(n | k)=(m, n | k)$$\n",
    "Then we have \n",
    "$$(n | m, k) =(m | n, k)(n | k)(m | k)^{-1} =(m, n | k)(m | k)^{-1}$$"
   ]
  },
  {
   "cell_type": "markdown",
   "metadata": {},
   "source": [
    "### 1. Probability of $M$ knowing $N$ and $K$.\n",
    "Select from $n$ tanks $m-1$ tanks, the pick the largest one.\n",
    "$$(m | n, k)=\\left(\\begin{array}{c}{m-1} \\\\ {k-1}\\end{array}\\right)\\left(\\begin{array}{l}{n} \\\\ {k}\\end{array}\\right)^{-1}$$\n",
    "\n",
    "### 2. Probability of $M$ knowing only $K$\n",
    "\\begin{aligned}(m | k) &=(m | k) \\cdot 1 =(m | k) \\sum_{n=0}^{\\infty}(n | m, k) =(m | k) \\sum_{n=0}^{\\infty}(m | n, k) \\frac{(n | k)}{(m | k)}=\\sum_{n=0}^{\\infty}(m | n, k)(n | k) \n",
    "\\end{aligned}\n",
    "### 3. Credibility of $N$ knowing only $K$\n",
    "Let $\\Omega$ be the real maximum serial number.\n",
    "$$(n|k)=(\\Omega-k)^{-1}$$\n",
    "### 4. Sum up together\n",
    "\\begin{aligned}\n",
    "    (n | m, k) &= (m | n, k)(n | k)(m | k)^{-1}\\\\\n",
    "               &=(m|n,k)\\left(\\sum_{n=m}^{\\infty}(m | n, k)(n | k)\\right)^{-1}\n",
    "\\end{aligned}\n",
    "The pmf is \n",
    "$$\\operatorname{Pr}(N=n)=\\left\\{\\begin{array}{ll}{0} & {\\text { if } n<m} \\\\ {\\frac{k-1}{k} \\frac{\\left(\\begin{array}{c}{m-1} \\\\ {k-1}\\end{array}\\right)}{\\left(\\begin{array}{c}{n} \\\\ {k}\\end{array}\\right)}}\\approx (k-1) m^{k-1} n^{-k} & {\\text { if } n \\geq m}\\end{array}\\right.$$\n",
    "the mean and variance is \n",
    "\\begin{array}{l}{\\mu=(m-1) \\frac{k-1}{k-2}} \\\\ {\\sigma=\\sqrt{\\frac{(k-1)(m-1)(m-k+1)}{(k-3)(k-2)^{2}}}}\\end{array}"
   ]
  },
  {
   "cell_type": "code",
   "execution_count": 95,
   "metadata": {},
   "outputs": [],
   "source": [
    "def bayes_mean(observed):\n",
    "    m = np.max(observed)\n",
    "    k = len(observed)\n",
    "    return (m-1)*(k-1)*1./(k-2)\n",
    "simulations = [bayes_mean(generate_sample()) for _ in range(num_simulations)]"
   ]
  },
  {
   "cell_type": "code",
   "execution_count": 96,
   "metadata": {},
   "outputs": [
    {
     "name": "stdout",
     "output_type": "stream",
     "text": [
      "mean is  1009.14, std is 62.93\n"
     ]
    },
    {
     "data": {
      "image/png": "[encoded data removed]",
      "text/plain": [
       "<Figure size 432x288 with 1 Axes>"
      ]
     },
     "metadata": {
      "needs_background": "light"
     },
     "output_type": "display_data"
    }
   ],
   "source": [
    "plot(simulations)"
   ]
  },
  {
   "cell_type": "markdown",
   "metadata": {},
   "source": [
    "### Probabilistic programming using PyMC3\n",
    "Instead of setting a fixed value for the total number of tanks, with probabilistic programming, we define a prior distribution that encodes our apriori beliefs and knowledge about the parameter(s) of interest. In this case, a reasonable prior distribution for the number of tanks is a DiscreteUniform2 with a lower bound at the maximum serial number of the captured tanks (since it’s impossible for the number of tanks to be lower than this), and an upper bound at some sufficiently large number, say 2000."
   ]
  },
  {
   "cell_type": "code",
   "execution_count": 108,
   "metadata": {},
   "outputs": [],
   "source": [
    "import pymc3 as pm\n",
    "captured = [499, 505, 190, 427, 185, 572, 818, 721, \n",
    "            912, 302, 765, 231, 547, 410, 884]"
   ]
  },
  {
   "cell_type": "code",
   "execution_count": 109,
   "metadata": {},
   "outputs": [
    {
     "name": "stderr",
     "output_type": "stream",
     "text": [
      "Multiprocess sampling (4 chains in 4 jobs)\n",
      "Metropolis: [num_tanks]\n",
      "Sampling 4 chains: 100%|██████████| 44000/44000 [00:04<00:00, 9273.68draws/s] \n",
      "The number of effective samples is smaller than 25% for some parameters.\n"
     ]
    }
   ],
   "source": [
    "with pm.Model():\n",
    "    num_tanks = pm.DiscreteUniform(\n",
    "        \"num_tanks\", \n",
    "        lower=max(captured), \n",
    "        upper=2000\n",
    "    )\n",
    "    likelihood = pm.DiscreteUniform(\n",
    "        \"observed\", \n",
    "        lower=1, \n",
    "        upper=num_tanks, \n",
    "        observed=num_captured\n",
    "    )\n",
    "    posterior = pm.sample(10000, tune=1000)"
   ]
  },
  {
   "cell_type": "code",
   "execution_count": 110,
   "metadata": {},
   "outputs": [
    {
     "data": {
      "text/plain": [
       "array([<matplotlib.axes._subplots.AxesSubplot object at 0x7f563d077b38>],\n",
       "      dtype=object)"
      ]
     },
     "execution_count": 110,
     "metadata": {},
     "output_type": "execute_result"
    },
    {
     "data": {
      "image/png": "[encoded data removed]",
      "text/plain": [
       "<Figure size 432x288 with 1 Axes>"
      ]
     },
     "metadata": {
      "needs_background": "light"
     },
     "output_type": "display_data"
    }
   ],
   "source": [
    "pm.plot_posterior(posterior, credible_interval=0.95)"
   ]
  },
  {
   "cell_type": "markdown",
   "metadata": {},
   "source": [
    "### Probabilistic programming using Pyro"
   ]
  },
  {
   "cell_type": "code",
   "execution_count": 197,
   "metadata": {},
   "outputs": [],
   "source": [
    "import pyro\n",
    "import torch\n",
    "\n",
    "import math\n",
    "import pyro\n",
    "import pyro.infer\n",
    "import pyro.optim\n",
    "import pyro.distributions as dist\n",
    "import torch.distributions.constraints as constraints\n",
    "\n",
    "from scipy.stats import bernoulli, beta\n",
    "from pyro import plate\n",
    "from pyro.optim import Adam\n",
    "from pyro.infer import SVI, Trace_ELBO"
   ]
  },
  {
   "cell_type": "markdown",
   "metadata": {},
   "source": [
    "### Sample from posterior distribution"
   ]
  },
  {
   "cell_type": "code",
   "execution_count": 225,
   "metadata": {},
   "outputs": [
    {
     "data": {
      "text/plain": [
       "(202, 798)"
      ]
     },
     "execution_count": 225,
     "metadata": {},
     "output_type": "execute_result"
    }
   ],
   "source": [
    "data = bernoulli(0.8).rvs(1000)\n",
    "data = torch.from_numpy(data).float()\n",
    "num_tail, num_heads= np.bincount(data)\n",
    "num_tail, num_heads"
   ]
  },
  {
   "cell_type": "code",
   "execution_count": 226,
   "metadata": {},
   "outputs": [],
   "source": [
    "def model(data):\n",
    "    p = pyro.sample(\"latent_fairness\", dist.Beta(10., 10.))\n",
    "    with plate('observed'): \n",
    "        pyro.sample(\"obs\", dist.Bernoulli(p), obs=data)\n",
    "        \n",
    "def guide(data):\n",
    "    # register the two variational parameters with Pyro.\n",
    "    alpha_q = pyro.param(\"alpha_q\", torch.tensor(15.0), constraint=constraints.positive)\n",
    "    beta_q = pyro.param(\"beta_q\", torch.tensor(15.0), constraint=constraints.positive)\n",
    "    # sample latent_fairness from the distribution Beta(alpha_q, beta_q)\n",
    "    pyro.sample(\"latent_fairness\", dist.Beta(alpha_q, beta_q))"
   ]
  },
  {
   "cell_type": "code",
   "execution_count": 231,
   "metadata": {},
   "outputs": [],
   "source": [
    "adam_params = {\"lr\": 0.01, \"betas\": (0.90, 0.999)}\n",
    "optimizer = Adam(adam_params)\n",
    "\n",
    "# setup the inference algorithm\n",
    "svi = SVI(model, guide, optimizer, loss=Trace_ELBO())\n",
    "\n",
    "n_steps = 1000\n",
    "# do gradient steps\n",
    "for step in range(n_steps): \n",
    "    svi.step(data)"
   ]
  },
  {
   "cell_type": "code",
   "execution_count": 232,
   "metadata": {},
   "outputs": [
    {
     "name": "stdout",
     "output_type": "stream",
     "text": [
      "\n",
      "based on the data and our prior belief, the fairness of the coin is 0.793 +- 0.028\n"
     ]
    }
   ],
   "source": [
    "alpha_q = pyro.param('alpha_q').item()\n",
    "beta_q = pyro.param('beta_q').item()\n",
    "inferred_mean = alpha_q / (alpha_q + beta_q)\n",
    "# compute inferred standard deviation\n",
    "factor = beta_q / (alpha_q * (1.0 + alpha_q + beta_q))\n",
    "inferred_std = inferred_mean * math.sqrt(factor)\n",
    "\n",
    "print(\"\\nbased on the data and our prior belief, the fairness \" +\n",
    "      \"of the coin is %.3f +- %.3f\" % (inferred_mean, inferred_std))"
   ]
  },
  {
   "cell_type": "code",
   "execution_count": 235,
   "metadata": {},
   "outputs": [
    {
     "data": {
      "text/plain": [
       "<matplotlib.legend.Legend at 0x7f55ae90efd0>"
      ]
     },
     "execution_count": 235,
     "metadata": {},
     "output_type": "execute_result"
    },
    {
     "data": {
      "image/png": "[encoded data removed]",
      "text/plain": [
       "<Figure size 432x288 with 1 Axes>"
      ]
     },
     "metadata": {
      "needs_background": "light"
     },
     "output_type": "display_data"
    }
   ],
   "source": [
    "x = np.linspace(0, 1, 500)\n",
    "prior = beta(10, 10).pdf(x)\n",
    "posterior = beta(alpha_q, beta_q).pdf(x)\n",
    "plt.plot(x, prior, label='prior')\n",
    "plt.plot(x, posterior, label='posterior')\n",
    "plt.legend()"
   ]
  },
  {
   "cell_type": "markdown",
   "metadata": {},
   "source": [
    "### Try German tank problem"
   ]
  },
  {
   "cell_type": "code",
   "execution_count": 155,
   "metadata": {},
   "outputs": [],
   "source": [
    "def model():\n",
    "    # the prior is p(n) = 1/(high-low)\n",
    "    num_tanks = pyro.sample(\"num_tanks\", dist.Uniform(low=max(captured), high=2000))\n",
    "    return pyro.sample(\"num_\")"
   ]
  },
  {
   "cell_type": "code",
   "execution_count": 119,
   "metadata": {},
   "outputs": [
    {
     "name": "stdout",
     "output_type": "stream",
     "text": [
      "1133\n",
      "1854\n",
      "1960\n",
      "1645\n",
      "939\n",
      "971\n",
      "1788\n",
      "1630\n",
      "1287\n",
      "1965\n"
     ]
    }
   ],
   "source": [
    "for _ in range(10):\n",
    "    print(model())"
   ]
  },
  {
   "cell_type": "code",
   "execution_count": null,
   "metadata": {},
   "outputs": [],
   "source": []
  }
 ],
 "metadata": {
  "kernelspec": {
   "display_name": "Python 3",
   "language": "python",
   "name": "python3"
  },
  "language_info": {
   "codemirror_mode": {
    "name": "ipython",
    "version": 3
   },
   "file_extension": ".py",
   "mimetype": "text/x-python",
   "name": "python",
   "nbconvert_exporter": "python",
   "pygments_lexer": "ipython3",
   "version": "3.6.8"
  }
 },
 "nbformat": 4,
 "nbformat_minor": 4
}
