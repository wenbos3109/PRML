{
 "cells": [
  {
   "cell_type": "markdown",
   "metadata": {},
   "source": [
    "# 3. Linear Models for Regression"
   ]
  },
  {
   "cell_type": "code",
   "execution_count": 2,
   "metadata": {},
   "outputs": [
    {
     "ename": "SyntaxError",
     "evalue": "invalid syntax (<ipython-input-2-7d4cc88da43c>, line 6)",
     "output_type": "error",
     "traceback": [
      "\u001b[0;36m  File \u001b[0;32m\"<ipython-input-2-7d4cc88da43c>\"\u001b[0;36m, line \u001b[0;32m6\u001b[0m\n\u001b[0;31m    from ./prml.preprocess import GaussianFeature, PolynomialFeature, SigmoidalFeature\u001b[0m\n\u001b[0m          ^\u001b[0m\n\u001b[0;31mSyntaxError\u001b[0m\u001b[0;31m:\u001b[0m invalid syntax\n"
     ]
    }
   ],
   "source": [
    "import numpy as np\n",
    "from scipy.stats import multivariate_normal\n",
    "import matplotlib.pyplot as plt\n",
    "%matplotlib inline\n",
    "\n",
    "from prml.preprocess import GaussianFeature, PolynomialFeature, SigmoidalFeature\n",
    "from prml.linear import (\n",
    "    BayesianRegression,\n",
    "    EmpiricalBayesRegression,\n",
    "    LinearRegression,\n",
    "    RidgeRegression\n",
    ")\n",
    "\n",
    "np.random.seed(1234)"
   ]
  },
  {
   "cell_type": "code",
   "execution_count": null,
   "metadata": {},
   "outputs": [],
   "source": [
    "def create_toy_data(func, sample_size, std, domain=[0, 1]):\n",
    "    x = np.linspace(domain[0], domain[1], sample_size)\n",
    "    np.random.shuffle(x)\n",
    "    t = func(x) + np.random.normal(scale=std, size=x.shape)\n",
    "    return x, t"
   ]
  },
  {
   "cell_type": "markdown",
   "metadata": {},
   "source": [
    "## 3.1 Linear Basis Function Models"
   ]
  },
  {
   "cell_type": "code",
   "execution_count": null,
   "metadata": {},
   "outputs": [],
   "source": [
    "x = np.linspace(-1, 1, 100)\n",
    "X_polynomial = PolynomialFeature(11).transform(x[:, None])\n",
    "X_gaussian = GaussianFeature(np.linspace(-1, 1, 11), 0.1).transform(x)\n",
    "X_sigmoidal = SigmoidalFeature(np.linspace(-1, 1, 11), 10).transform(x)\n",
    "\n",
    "plt.figure(figsize=(20, 5))\n",
    "for i, X in enumerate([X_polynomial, X_gaussian, X_sigmoidal]):\n",
    "    plt.subplot(1, 3, i + 1)\n",
    "    for j in range(12):\n",
    "        plt.plot(x, X[:, j])"
   ]
  },
  {
   "cell_type": "markdown",
   "metadata": {},
   "source": [
    "### 3.1.1 Maximum likelihood and least squares"
   ]
  },
  {
   "cell_type": "code",
   "execution_count": null,
   "metadata": {},
   "outputs": [],
   "source": [
    "def sinusoidal(x):\n",
    "    return np.sin(2 * np.pi * x)\n",
    "\n",
    "x_train, y_train = create_toy_data(sinusoidal, 10, 0.25)\n",
    "x_test = np.linspace(0, 1, 100)\n",
    "y_test = sinusoidal(x_test)\n",
    "\n",
    "# Pick one of the three features below\n",
    "# feature = PolynomialFeature(8)\n",
    "feature = GaussianFeature(np.linspace(0, 1, 8), 0.1)\n",
    "# feature = SigmoidalFeature(np.linspace(0, 1, 8), 10)\n",
    "\n",
    "X_train = feature.transform(x_train)\n",
    "X_test = feature.transform(x_test)\n",
    "model = LinearRegression()\n",
    "model.fit(X_train, y_train)\n",
    "y, y_std = model.predict(X_test, return_std=True)\n",
    "\n",
    "plt.scatter(x_train, y_train, facecolor=\"none\", edgecolor=\"b\", s=50, label=\"training data\")\n",
    "plt.plot(x_test, y_test, label=\"$\\sin(2\\pi x)$\")\n",
    "plt.plot(x_test, y, label=\"prediction\")\n",
    "plt.fill_between(\n",
    "    x_test, y - y_std, y + y_std,\n",
    "    color=\"orange\", alpha=0.5, label=\"std.\")\n",
    "plt.legend()\n",
    "plt.show()"
   ]
  },
  {
   "cell_type": "markdown",
   "metadata": {},
   "source": [
    "### 3.1.4 Regularized least squares"
   ]
  },
  {
   "cell_type": "code",
   "execution_count": null,
   "metadata": {},
   "outputs": [],
   "source": [
    "model = RidgeRegression(alpha=1e-3)\n",
    "model.fit(X_train, y_train)\n",
    "y = model.predict(X_test)\n",
    "\n",
    "plt.scatter(x_train, y_train, facecolor=\"none\", edgecolor=\"b\", s=50, label=\"training data\")\n",
    "plt.plot(x_test, y_test, label=\"$\\sin(2\\pi x)$\")\n",
    "plt.plot(x_test, y, label=\"prediction\")\n",
    "plt.legend()\n",
    "plt.show()"
   ]
  },
  {
   "cell_type": "markdown",
   "metadata": {},
   "source": [
    "## 3.2 The Bias-Variance Decomposition"
   ]
  },
  {
   "cell_type": "code",
   "execution_count": null,
   "metadata": {},
   "outputs": [],
   "source": [
    "# feature = PolynomialFeature(24)\n",
    "feature = GaussianFeature(np.linspace(0, 1, 24), 0.1)\n",
    "# feature = SigmoidalFeature(np.linspace(0, 1, 24), 10)\n",
    "\n",
    "for a in [1e2, 1., 1e-9]:\n",
    "    y_list = []\n",
    "    plt.figure(figsize=(20, 5))\n",
    "    plt.subplot(1, 2, 1)\n",
    "    for i in range(100):\n",
    "        x_train, y_train = create_toy_data(sinusoidal, 25, 0.25)\n",
    "        X_train = feature.transform(x_train)\n",
    "        X_test = feature.transform(x_test)\n",
    "        model = BayesianRegression(alpha=a, beta=1.)\n",
    "        model.fit(X_train, y_train)\n",
    "        y = model.predict(X_test)\n",
    "        y_list.append(y)\n",
    "        if i < 20:\n",
    "            plt.plot(x_test, y, c=\"orange\")\n",
    "    plt.ylim(-1.5, 1.5)\n",
    "    \n",
    "    plt.subplot(1, 2, 2)\n",
    "    plt.plot(x_test, y_test)\n",
    "    plt.plot(x_test, np.asarray(y_list).mean(axis=0))\n",
    "    plt.ylim(-1.5, 1.5)\n",
    "    plt.show()"
   ]
  },
  {
   "cell_type": "markdown",
   "metadata": {},
   "source": [
    "## 3.3 Bayesian Linear Regression"
   ]
  },
  {
   "cell_type": "markdown",
   "metadata": {},
   "source": [
    "### 3.3.1 Parameter distribution"
   ]
  },
  {
   "cell_type": "code",
   "execution_count": null,
   "metadata": {},
   "outputs": [],
   "source": [
    "def linear(x):\n",
    "    return -0.3 + 0.5 * x\n",
    "\n",
    "\n",
    "x_train, y_train = create_toy_data(linear, 20, 0.1, [-1, 1])\n",
    "x = np.linspace(-1, 1, 100)\n",
    "w0, w1 = np.meshgrid(\n",
    "    np.linspace(-1, 1, 100),\n",
    "    np.linspace(-1, 1, 100))\n",
    "w = np.array([w0, w1]).transpose(1, 2, 0)\n",
    "\n",
    "feature = PolynomialFeature(degree=1)\n",
    "X_train = feature.transform(x_train)\n",
    "X = feature.transform(x)\n",
    "model = BayesianRegression(alpha=1., beta=100.)\n",
    "\n",
    "for begin, end in [[0, 0], [0, 1], [1, 2], [2, 3], [3, 20]]:\n",
    "    model.fit(X_train[begin: end], y_train[begin: end])\n",
    "    plt.subplot(1, 2, 1)\n",
    "    plt.scatter(-0.3, 0.5, s=200, marker=\"x\")\n",
    "    plt.contour(w0, w1, multivariate_normal.pdf(w, mean=model.w_mean, cov=model.w_cov))\n",
    "    plt.gca().set_aspect('equal')\n",
    "    plt.xlabel(\"$w_0$\")\n",
    "    plt.ylabel(\"$w_1$\")\n",
    "    plt.title(\"prior/posterior\")\n",
    "\n",
    "    plt.subplot(1, 2, 2)\n",
    "    plt.scatter(x_train[:end], y_train[:end], s=100, facecolor=\"none\", edgecolor=\"steelblue\", lw=1)\n",
    "    plt.plot(x, model.predict(X, sample_size=6), c=\"orange\")\n",
    "    plt.xlim(-1, 1)\n",
    "    plt.ylim(-1, 1)\n",
    "    plt.gca().set_aspect('equal', adjustable='box')\n",
    "    plt.show()"
   ]
  },
  {
   "cell_type": "markdown",
   "metadata": {},
   "source": [
    "### 3.3.2 Predictive distribution"
   ]
  },
  {
   "cell_type": "code",
   "execution_count": null,
   "metadata": {},
   "outputs": [],
   "source": [
    "x_train, y_train = create_toy_data(sinusoidal, 25, 0.25)\n",
    "x_test = np.linspace(0, 1, 100)\n",
    "y_test = sinusoidal(x_test)\n",
    "\n",
    "feature = GaussianFeature(np.linspace(0, 1, 9), 0.1)\n",
    "X_train = feature.transform(x_train)\n",
    "X_test = feature.transform(x_test)\n",
    "\n",
    "model = BayesianRegression(alpha=1e-3, beta=2.)\n",
    "\n",
    "for begin, end in [[0, 1], [1, 2], [2, 4], [4, 8], [8, 25]]:\n",
    "    model.fit(X_train[begin: end], y_train[begin: end])\n",
    "    y, y_std = model.predict(X_test, return_std=True)\n",
    "    plt.scatter(x_train[:end], y_train[:end], s=100, facecolor=\"none\", edgecolor=\"steelblue\", lw=2)\n",
    "    plt.plot(x_test, y_test)\n",
    "    plt.plot(x_test, y)\n",
    "    plt.fill_between(x_test, y - y_std, y + y_std, color=\"orange\", alpha=0.5)\n",
    "    plt.xlim(0, 1)\n",
    "    plt.ylim(-2, 2)\n",
    "    plt.show()"
   ]
  },
  {
   "cell_type": "markdown",
   "metadata": {},
   "source": [
    "## 3.5 The Evidence Approximation"
   ]
  },
  {
   "cell_type": "code",
   "execution_count": null,
   "metadata": {},
   "outputs": [],
   "source": [
    "def cubic(x):\n",
    "    return x * (x - 5) * (x + 5)\n",
    "\n",
    "x_train, y_train = create_toy_data(cubic, 30, 10, [-5, 5])\n",
    "x_test = np.linspace(-5, 5, 100)\n",
    "evidences = []\n",
    "models = []\n",
    "for i in range(8):\n",
    "    feature = PolynomialFeature(degree=i)\n",
    "    X_train = feature.transform(x_train)\n",
    "    model = EmpiricalBayesRegression(alpha=100., beta=100.)\n",
    "    model.fit(X_train, y_train, max_iter=100)\n",
    "    evidences.append(model.log_evidence(X_train, y_train))\n",
    "    models.append(model)\n",
    "\n",
    "degree = np.nanargmax(evidences)\n",
    "regression = models[degree]\n",
    "\n",
    "X_test = PolynomialFeature(degree=int(degree)).transform(x_test)\n",
    "y, y_std = regression.predict(X_test, return_std=True)\n",
    "\n",
    "plt.scatter(x_train, y_train, s=50, facecolor=\"none\", edgecolor=\"steelblue\", label=\"observation\")\n",
    "plt.plot(x_test, cubic(x_test), label=\"x(x-5)(x+5)\")\n",
    "plt.plot(x_test, y, label=\"prediction\")\n",
    "plt.fill_between(x_test, y - y_std, y + y_std, alpha=0.5, label=\"std\", color=\"orange\")\n",
    "plt.legend()\n",
    "plt.show()\n",
    "\n",
    "plt.plot(evidences)\n",
    "plt.title(\"Model evidence\")\n",
    "plt.xlabel(\"degree\")\n",
    "plt.ylabel(\"log evidence\")\n",
    "plt.show()"
   ]
  },
  {
   "cell_type": "code",
   "execution_count": null,
   "metadata": {},
   "outputs": [],
   "source": []
  }
 ],
 "metadata": {
  "anaconda-cloud": {},
  "kernelspec": {
   "display_name": "Python 3",
   "language": "python",
   "name": "python3"
  },
  "language_info": {
   "codemirror_mode": {
    "name": "ipython",
    "version": 3
   },
   "file_extension": ".py",
   "mimetype": "text/x-python",
   "name": "python",
   "nbconvert_exporter": "python",
   "pygments_lexer": "ipython3",
   "version": "3.6.8"
  }
 },
 "nbformat": 4,
 "nbformat_minor": 4
}
